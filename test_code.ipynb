{
 "cells": [
  {
   "cell_type": "code",
   "execution_count": 2,
   "metadata": {},
   "outputs": [
    {
     "name": "stdout",
     "output_type": "stream",
     "text": [
      "WARNING:tensorflow:From c:\\Users\\ricar\\anaconda3\\envs\\pro24\\Lib\\site-packages\\keras\\src\\losses.py:2976: The name tf.losses.sparse_softmax_cross_entropy is deprecated. Please use tf.compat.v1.losses.sparse_softmax_cross_entropy instead.\n",
      "\n"
     ]
    }
   ],
   "source": [
    "from ia_model.data_preparation import load_data, prepare_data, split_data\n",
    "from keras.models import Sequential\n",
    "from keras.layers import LSTM, Dense, Dropout\n",
    "from keras.callbacks import EarlyStopping\n",
    "from sklearn.metrics import mean_squared_error, r2_score\n",
    "from itertools import product\n",
    "import numpy as np\n",
    "import pandas as pd"
   ]
  },
  {
   "cell_type": "code",
   "execution_count": 4,
   "metadata": {},
   "outputs": [],
   "source": [
    "# Configuration parameters for the model and data preparation\n",
    "FILE_PATH = 'aggregated_data4.csv' #This data can be download from https://rcavieses.pythonanywhere.com/\n",
    "FEATURE_COL = ['NOMBRE PRINCIPAL','NOMBRE ESTADO','NOMBRE OFICINA','SST','PESO DESEMBARCADO_KILOGRAMOS']#Change this if you want to add input variables\n",
    "TARGET_COL = 'PESO DESEMBARCADO_KILOGRAMOS'\n",
    "CATEGORICAL_COL = ['NOMBRE PRINCIPAL','NOMBRE ESTADO','NOMBRE OFICINA']\n",
    "NUMERIC_COL = ['PESO DESEMBARCADO_KILOGRAMOS','SST']\n",
    "steps_forecast = 12\n",
    "time_steps= 12 # number of steps that lstm forecast, change this will be errors on scoore metrics ;)\n",
    "neurons_list = list(range(10, 16))\n",
    "layers_list = [3, 4]\n",
    "activations_list = ['relu', 'sigmoid']\n",
    "# activations_list = ['relu', 'tanh', 'sigmoid']\n",
    "EPOCHS = 50\n",
    "BATCH_SIZE = 32\n",
    "MODEL_PATH = 'mi_modelo.h5'\n",
    "SCALER_X_PATH = 'scaler_X.pkl'\n",
    "SCALER_Y_PATH = 'scaler_Y.pkl'"
   ]
  },
  {
   "cell_type": "code",
   "execution_count": 5,
   "metadata": {},
   "outputs": [],
   "source": [
    "df = pd.read_csv('aggregated_data4.csv')\n",
    "X, y, scaler_x,scaler_y, encoder , n_features = prepare_data(df, TARGET_COL, time_steps, CATEGORICAL_COL,NUMERIC_COL)\n",
    "X_train, X_test, y_train, y_test = split_data(X, y)"
   ]
  },
  {
   "cell_type": "code",
   "execution_count": 6,
   "metadata": {},
   "outputs": [
    {
     "name": "stdout",
     "output_type": "stream",
     "text": [
      "WARNING:tensorflow:From c:\\Users\\ricar\\anaconda3\\envs\\pro24\\Lib\\site-packages\\keras\\src\\backend.py:873: The name tf.get_default_graph is deprecated. Please use tf.compat.v1.get_default_graph instead.\n",
      "\n",
      "WARNING:tensorflow:From c:\\Users\\ricar\\anaconda3\\envs\\pro24\\Lib\\site-packages\\keras\\src\\optimizers\\__init__.py:309: The name tf.train.Optimizer is deprecated. Please use tf.compat.v1.train.Optimizer instead.\n",
      "\n",
      "Epoch 1/50\n",
      "WARNING:tensorflow:From c:\\Users\\ricar\\anaconda3\\envs\\pro24\\Lib\\site-packages\\keras\\src\\utils\\tf_utils.py:492: The name tf.ragged.RaggedTensorValue is deprecated. Please use tf.compat.v1.ragged.RaggedTensorValue instead.\n",
      "\n"
     ]
    },
    {
     "ename": "InvalidArgumentError",
     "evalue": "Graph execution error:\n\nDetected at node gradient_tape/mean_squared_error/BroadcastGradientArgs defined at (most recent call last):\n  File \"<frozen runpy>\", line 198, in _run_module_as_main\n\n  File \"<frozen runpy>\", line 88, in _run_code\n\n  File \"c:\\Users\\ricar\\anaconda3\\envs\\pro24\\Lib\\site-packages\\ipykernel_launcher.py\", line 17, in <module>\n\n  File \"c:\\Users\\ricar\\anaconda3\\envs\\pro24\\Lib\\site-packages\\traitlets\\config\\application.py\", line 1075, in launch_instance\n\n  File \"c:\\Users\\ricar\\anaconda3\\envs\\pro24\\Lib\\site-packages\\ipykernel\\kernelapp.py\", line 739, in start\n\n  File \"c:\\Users\\ricar\\anaconda3\\envs\\pro24\\Lib\\site-packages\\tornado\\platform\\asyncio.py\", line 195, in start\n\n  File \"c:\\Users\\ricar\\anaconda3\\envs\\pro24\\Lib\\asyncio\\base_events.py\", line 607, in run_forever\n\n  File \"c:\\Users\\ricar\\anaconda3\\envs\\pro24\\Lib\\asyncio\\base_events.py\", line 1922, in _run_once\n\n  File \"c:\\Users\\ricar\\anaconda3\\envs\\pro24\\Lib\\asyncio\\events.py\", line 80, in _run\n\n  File \"c:\\Users\\ricar\\anaconda3\\envs\\pro24\\Lib\\site-packages\\ipykernel\\kernelbase.py\", line 542, in dispatch_queue\n\n  File \"c:\\Users\\ricar\\anaconda3\\envs\\pro24\\Lib\\site-packages\\ipykernel\\kernelbase.py\", line 531, in process_one\n\n  File \"c:\\Users\\ricar\\anaconda3\\envs\\pro24\\Lib\\site-packages\\ipykernel\\kernelbase.py\", line 437, in dispatch_shell\n\n  File \"c:\\Users\\ricar\\anaconda3\\envs\\pro24\\Lib\\site-packages\\ipykernel\\ipkernel.py\", line 359, in execute_request\n\n  File \"c:\\Users\\ricar\\anaconda3\\envs\\pro24\\Lib\\site-packages\\ipykernel\\kernelbase.py\", line 775, in execute_request\n\n  File \"c:\\Users\\ricar\\anaconda3\\envs\\pro24\\Lib\\site-packages\\ipykernel\\ipkernel.py\", line 446, in do_execute\n\n  File \"c:\\Users\\ricar\\anaconda3\\envs\\pro24\\Lib\\site-packages\\ipykernel\\zmqshell.py\", line 549, in run_cell\n\n  File \"c:\\Users\\ricar\\anaconda3\\envs\\pro24\\Lib\\site-packages\\IPython\\core\\interactiveshell.py\", line 3051, in run_cell\n\n  File \"c:\\Users\\ricar\\anaconda3\\envs\\pro24\\Lib\\site-packages\\IPython\\core\\interactiveshell.py\", line 3106, in _run_cell\n\n  File \"c:\\Users\\ricar\\anaconda3\\envs\\pro24\\Lib\\site-packages\\IPython\\core\\async_helpers.py\", line 129, in _pseudo_sync_runner\n\n  File \"c:\\Users\\ricar\\anaconda3\\envs\\pro24\\Lib\\site-packages\\IPython\\core\\interactiveshell.py\", line 3311, in run_cell_async\n\n  File \"c:\\Users\\ricar\\anaconda3\\envs\\pro24\\Lib\\site-packages\\IPython\\core\\interactiveshell.py\", line 3493, in run_ast_nodes\n\n  File \"c:\\Users\\ricar\\anaconda3\\envs\\pro24\\Lib\\site-packages\\IPython\\core\\interactiveshell.py\", line 3553, in run_code\n\n  File \"C:\\Users\\ricar\\AppData\\Local\\Temp\\ipykernel_4244\\2044871526.py\", line 60, in <module>\n\n  File \"C:\\Users\\ricar\\AppData\\Local\\Temp\\ipykernel_4244\\2044871526.py\", line 47, in find_best_model\n\n  File \"C:\\Users\\ricar\\AppData\\Local\\Temp\\ipykernel_4244\\2044871526.py\", line 23, in train_and_evaluate\n\n  File \"c:\\Users\\ricar\\anaconda3\\envs\\pro24\\Lib\\site-packages\\keras\\src\\utils\\traceback_utils.py\", line 65, in error_handler\n\n  File \"c:\\Users\\ricar\\anaconda3\\envs\\pro24\\Lib\\site-packages\\keras\\src\\engine\\training.py\", line 1807, in fit\n\n  File \"c:\\Users\\ricar\\anaconda3\\envs\\pro24\\Lib\\site-packages\\keras\\src\\engine\\training.py\", line 1401, in train_function\n\n  File \"c:\\Users\\ricar\\anaconda3\\envs\\pro24\\Lib\\site-packages\\keras\\src\\engine\\training.py\", line 1384, in step_function\n\n  File \"c:\\Users\\ricar\\anaconda3\\envs\\pro24\\Lib\\site-packages\\keras\\src\\engine\\training.py\", line 1373, in run_step\n\n  File \"c:\\Users\\ricar\\anaconda3\\envs\\pro24\\Lib\\site-packages\\keras\\src\\engine\\training.py\", line 1154, in train_step\n\n  File \"c:\\Users\\ricar\\anaconda3\\envs\\pro24\\Lib\\site-packages\\keras\\src\\optimizers\\optimizer.py\", line 543, in minimize\n\n  File \"c:\\Users\\ricar\\anaconda3\\envs\\pro24\\Lib\\site-packages\\keras\\src\\optimizers\\optimizer.py\", line 276, in compute_gradients\n\nIncompatible shapes: [32,12,10] vs. [32]\n\t [[{{node gradient_tape/mean_squared_error/BroadcastGradientArgs}}]] [Op:__inference_train_function_3624]",
     "output_type": "error",
     "traceback": [
      "\u001b[1;31m---------------------------------------------------------------------------\u001b[0m",
      "\u001b[1;31mInvalidArgumentError\u001b[0m                      Traceback (most recent call last)",
      "Cell \u001b[1;32mIn[6], line 60\u001b[0m\n\u001b[0;32m     57\u001b[0m configurations \u001b[38;5;241m=\u001b[39m generate_configurations(neurons_list, layers_list, activations_list)\n\u001b[0;32m     59\u001b[0m \u001b[38;5;66;03m# Assuming X_train, y_train, X_test, y_test are defined\u001b[39;00m\n\u001b[1;32m---> 60\u001b[0m best_config, best_mse, best_r2 \u001b[38;5;241m=\u001b[39m \u001b[43mfind_best_model\u001b[49m\u001b[43m(\u001b[49m\u001b[43mX_train\u001b[49m\u001b[43m,\u001b[49m\u001b[43m \u001b[49m\u001b[43my_train\u001b[49m\u001b[43m,\u001b[49m\u001b[43m \u001b[49m\u001b[43mX_test\u001b[49m\u001b[43m,\u001b[49m\u001b[43m \u001b[49m\u001b[43my_test\u001b[49m\u001b[43m,\u001b[49m\u001b[43m \u001b[49m\u001b[43mconfigurations\u001b[49m\u001b[43m)\u001b[49m\n\u001b[0;32m     61\u001b[0m \u001b[38;5;28mprint\u001b[39m(\u001b[38;5;124mf\u001b[39m\u001b[38;5;124m\"\u001b[39m\u001b[38;5;124mBest configuration: \u001b[39m\u001b[38;5;132;01m{\u001b[39;00mbest_config\u001b[38;5;132;01m}\u001b[39;00m\u001b[38;5;130;01m\\n\u001b[39;00m\u001b[38;5;124mMSE: \u001b[39m\u001b[38;5;132;01m{\u001b[39;00mbest_mse\u001b[38;5;132;01m}\u001b[39;00m\u001b[38;5;124m, R^2: \u001b[39m\u001b[38;5;132;01m{\u001b[39;00mbest_r2\u001b[38;5;132;01m}\u001b[39;00m\u001b[38;5;124m\"\u001b[39m)\n",
      "Cell \u001b[1;32mIn[6], line 47\u001b[0m, in \u001b[0;36mfind_best_model\u001b[1;34m(X_train, y_train, X_test, y_test, configurations, epochs, batch_size)\u001b[0m\n\u001b[0;32m     45\u001b[0m model \u001b[38;5;241m=\u001b[39m build_dynamic_model(X_train\u001b[38;5;241m.\u001b[39mshape[\u001b[38;5;241m1\u001b[39m], X_train\u001b[38;5;241m.\u001b[39mshape[\u001b[38;5;241m2\u001b[39m], config)\n\u001b[0;32m     46\u001b[0m \u001b[38;5;66;03m# mse, r2 = train_and_evaluate(model, X_train, y_train, X_test, y_test, EPOCHS, BATCH_SIZE)\u001b[39;00m\n\u001b[1;32m---> 47\u001b[0m mse, r2 \u001b[38;5;241m=\u001b[39m \u001b[43mtrain_and_evaluate\u001b[49m\u001b[43m(\u001b[49m\u001b[43mmodel\u001b[49m\u001b[43m,\u001b[49m\u001b[43m \u001b[49m\u001b[43mX_train\u001b[49m\u001b[43m,\u001b[49m\u001b[43m \u001b[49m\u001b[43my_train\u001b[49m\u001b[43m,\u001b[49m\u001b[43m \u001b[49m\u001b[43mX_test\u001b[49m\u001b[43m,\u001b[49m\u001b[43m \u001b[49m\u001b[43my_test\u001b[49m\u001b[43m,\u001b[49m\u001b[43m \u001b[49m\u001b[43mepochs\u001b[49m\u001b[38;5;241;43m=\u001b[39;49m\u001b[43mepochs\u001b[49m\u001b[43m,\u001b[49m\u001b[43m \u001b[49m\u001b[43mbatch_size\u001b[49m\u001b[38;5;241;43m=\u001b[39;49m\u001b[43mbatch_size\u001b[49m\u001b[43m)\u001b[49m\n\u001b[0;32m     48\u001b[0m \u001b[38;5;28;01mif\u001b[39;00m mse \u001b[38;5;241m<\u001b[39m best_mse \u001b[38;5;129;01mor\u001b[39;00m (mse \u001b[38;5;241m==\u001b[39m best_mse \u001b[38;5;129;01mand\u001b[39;00m r2 \u001b[38;5;241m>\u001b[39m best_r2):\n\u001b[0;32m     49\u001b[0m     best_mse, best_r2, best_config \u001b[38;5;241m=\u001b[39m mse, r2, config\n",
      "Cell \u001b[1;32mIn[6], line 23\u001b[0m, in \u001b[0;36mtrain_and_evaluate\u001b[1;34m(model, X_train, y_train, X_test, y_test, epochs, batch_size)\u001b[0m\n\u001b[0;32m     19\u001b[0m early_stopping \u001b[38;5;241m=\u001b[39m EarlyStopping(monitor\u001b[38;5;241m=\u001b[39m\u001b[38;5;124m'\u001b[39m\u001b[38;5;124mval_loss\u001b[39m\u001b[38;5;124m'\u001b[39m, patience\u001b[38;5;241m=\u001b[39m\u001b[38;5;241m10\u001b[39m, restore_best_weights\u001b[38;5;241m=\u001b[39m\u001b[38;5;28;01mTrue\u001b[39;00m)\n\u001b[0;32m     21\u001b[0m \u001b[38;5;66;03m# Fit the model using the reshaped targets\u001b[39;00m\n\u001b[0;32m     22\u001b[0m \u001b[38;5;66;03m# model.fit(X_train, y_train, epochs=epochs, batch_size=batch_size, validation_split=0.2, callbacks=[early_stopping])\u001b[39;00m\n\u001b[1;32m---> 23\u001b[0m \u001b[43mmodel\u001b[49m\u001b[38;5;241;43m.\u001b[39;49m\u001b[43mfit\u001b[49m\u001b[43m(\u001b[49m\u001b[43mX_train\u001b[49m\u001b[43m,\u001b[49m\u001b[43m \u001b[49m\u001b[43my_train\u001b[49m\u001b[43m,\u001b[49m\u001b[43m \u001b[49m\u001b[43mepochs\u001b[49m\u001b[38;5;241;43m=\u001b[39;49m\u001b[43mepochs\u001b[49m\u001b[43m,\u001b[49m\u001b[43m \u001b[49m\u001b[43mbatch_size\u001b[49m\u001b[38;5;241;43m=\u001b[39;49m\u001b[43mbatch_size\u001b[49m\u001b[43m,\u001b[49m\u001b[43m \u001b[49m\u001b[43mvalidation_data\u001b[49m\u001b[38;5;241;43m=\u001b[39;49m\u001b[43m(\u001b[49m\u001b[43mX_test\u001b[49m\u001b[43m,\u001b[49m\u001b[43m \u001b[49m\u001b[43my_test\u001b[49m\u001b[43m)\u001b[49m\u001b[43m,\u001b[49m\u001b[43m \u001b[49m\u001b[43mverbose\u001b[49m\u001b[38;5;241;43m=\u001b[39;49m\u001b[38;5;241;43m1\u001b[39;49m\u001b[43m,\u001b[49m\u001b[43m \u001b[49m\u001b[43mcallbacks\u001b[49m\u001b[38;5;241;43m=\u001b[39;49m\u001b[43m[\u001b[49m\u001b[43mearly_stopping\u001b[49m\u001b[43m]\u001b[49m\u001b[43m)\u001b[49m\n\u001b[0;32m     24\u001b[0m predictions \u001b[38;5;241m=\u001b[39m model\u001b[38;5;241m.\u001b[39mpredict(X_test)\n\u001b[0;32m     26\u001b[0m \u001b[38;5;66;03m# Adjust the shape of predictions and y_test if necessary before calculating MSE and R^2\u001b[39;00m\n",
      "File \u001b[1;32mc:\\Users\\ricar\\anaconda3\\envs\\pro24\\Lib\\site-packages\\keras\\src\\utils\\traceback_utils.py:70\u001b[0m, in \u001b[0;36mfilter_traceback.<locals>.error_handler\u001b[1;34m(*args, **kwargs)\u001b[0m\n\u001b[0;32m     67\u001b[0m     filtered_tb \u001b[38;5;241m=\u001b[39m _process_traceback_frames(e\u001b[38;5;241m.\u001b[39m__traceback__)\n\u001b[0;32m     68\u001b[0m     \u001b[38;5;66;03m# To get the full stack trace, call:\u001b[39;00m\n\u001b[0;32m     69\u001b[0m     \u001b[38;5;66;03m# `tf.debugging.disable_traceback_filtering()`\u001b[39;00m\n\u001b[1;32m---> 70\u001b[0m     \u001b[38;5;28;01mraise\u001b[39;00m e\u001b[38;5;241m.\u001b[39mwith_traceback(filtered_tb) \u001b[38;5;28;01mfrom\u001b[39;00m \u001b[38;5;28;01mNone\u001b[39;00m\n\u001b[0;32m     71\u001b[0m \u001b[38;5;28;01mfinally\u001b[39;00m:\n\u001b[0;32m     72\u001b[0m     \u001b[38;5;28;01mdel\u001b[39;00m filtered_tb\n",
      "File \u001b[1;32mc:\\Users\\ricar\\anaconda3\\envs\\pro24\\Lib\\site-packages\\tensorflow\\python\\eager\\execute.py:53\u001b[0m, in \u001b[0;36mquick_execute\u001b[1;34m(op_name, num_outputs, inputs, attrs, ctx, name)\u001b[0m\n\u001b[0;32m     51\u001b[0m \u001b[38;5;28;01mtry\u001b[39;00m:\n\u001b[0;32m     52\u001b[0m   ctx\u001b[38;5;241m.\u001b[39mensure_initialized()\n\u001b[1;32m---> 53\u001b[0m   tensors \u001b[38;5;241m=\u001b[39m pywrap_tfe\u001b[38;5;241m.\u001b[39mTFE_Py_Execute(ctx\u001b[38;5;241m.\u001b[39m_handle, device_name, op_name,\n\u001b[0;32m     54\u001b[0m                                       inputs, attrs, num_outputs)\n\u001b[0;32m     55\u001b[0m \u001b[38;5;28;01mexcept\u001b[39;00m core\u001b[38;5;241m.\u001b[39m_NotOkStatusException \u001b[38;5;28;01mas\u001b[39;00m e:\n\u001b[0;32m     56\u001b[0m   \u001b[38;5;28;01mif\u001b[39;00m name \u001b[38;5;129;01mis\u001b[39;00m \u001b[38;5;129;01mnot\u001b[39;00m \u001b[38;5;28;01mNone\u001b[39;00m:\n",
      "\u001b[1;31mInvalidArgumentError\u001b[0m: Graph execution error:\n\nDetected at node gradient_tape/mean_squared_error/BroadcastGradientArgs defined at (most recent call last):\n  File \"<frozen runpy>\", line 198, in _run_module_as_main\n\n  File \"<frozen runpy>\", line 88, in _run_code\n\n  File \"c:\\Users\\ricar\\anaconda3\\envs\\pro24\\Lib\\site-packages\\ipykernel_launcher.py\", line 17, in <module>\n\n  File \"c:\\Users\\ricar\\anaconda3\\envs\\pro24\\Lib\\site-packages\\traitlets\\config\\application.py\", line 1075, in launch_instance\n\n  File \"c:\\Users\\ricar\\anaconda3\\envs\\pro24\\Lib\\site-packages\\ipykernel\\kernelapp.py\", line 739, in start\n\n  File \"c:\\Users\\ricar\\anaconda3\\envs\\pro24\\Lib\\site-packages\\tornado\\platform\\asyncio.py\", line 195, in start\n\n  File \"c:\\Users\\ricar\\anaconda3\\envs\\pro24\\Lib\\asyncio\\base_events.py\", line 607, in run_forever\n\n  File \"c:\\Users\\ricar\\anaconda3\\envs\\pro24\\Lib\\asyncio\\base_events.py\", line 1922, in _run_once\n\n  File \"c:\\Users\\ricar\\anaconda3\\envs\\pro24\\Lib\\asyncio\\events.py\", line 80, in _run\n\n  File \"c:\\Users\\ricar\\anaconda3\\envs\\pro24\\Lib\\site-packages\\ipykernel\\kernelbase.py\", line 542, in dispatch_queue\n\n  File \"c:\\Users\\ricar\\anaconda3\\envs\\pro24\\Lib\\site-packages\\ipykernel\\kernelbase.py\", line 531, in process_one\n\n  File \"c:\\Users\\ricar\\anaconda3\\envs\\pro24\\Lib\\site-packages\\ipykernel\\kernelbase.py\", line 437, in dispatch_shell\n\n  File \"c:\\Users\\ricar\\anaconda3\\envs\\pro24\\Lib\\site-packages\\ipykernel\\ipkernel.py\", line 359, in execute_request\n\n  File \"c:\\Users\\ricar\\anaconda3\\envs\\pro24\\Lib\\site-packages\\ipykernel\\kernelbase.py\", line 775, in execute_request\n\n  File \"c:\\Users\\ricar\\anaconda3\\envs\\pro24\\Lib\\site-packages\\ipykernel\\ipkernel.py\", line 446, in do_execute\n\n  File \"c:\\Users\\ricar\\anaconda3\\envs\\pro24\\Lib\\site-packages\\ipykernel\\zmqshell.py\", line 549, in run_cell\n\n  File \"c:\\Users\\ricar\\anaconda3\\envs\\pro24\\Lib\\site-packages\\IPython\\core\\interactiveshell.py\", line 3051, in run_cell\n\n  File \"c:\\Users\\ricar\\anaconda3\\envs\\pro24\\Lib\\site-packages\\IPython\\core\\interactiveshell.py\", line 3106, in _run_cell\n\n  File \"c:\\Users\\ricar\\anaconda3\\envs\\pro24\\Lib\\site-packages\\IPython\\core\\async_helpers.py\", line 129, in _pseudo_sync_runner\n\n  File \"c:\\Users\\ricar\\anaconda3\\envs\\pro24\\Lib\\site-packages\\IPython\\core\\interactiveshell.py\", line 3311, in run_cell_async\n\n  File \"c:\\Users\\ricar\\anaconda3\\envs\\pro24\\Lib\\site-packages\\IPython\\core\\interactiveshell.py\", line 3493, in run_ast_nodes\n\n  File \"c:\\Users\\ricar\\anaconda3\\envs\\pro24\\Lib\\site-packages\\IPython\\core\\interactiveshell.py\", line 3553, in run_code\n\n  File \"C:\\Users\\ricar\\AppData\\Local\\Temp\\ipykernel_4244\\2044871526.py\", line 60, in <module>\n\n  File \"C:\\Users\\ricar\\AppData\\Local\\Temp\\ipykernel_4244\\2044871526.py\", line 47, in find_best_model\n\n  File \"C:\\Users\\ricar\\AppData\\Local\\Temp\\ipykernel_4244\\2044871526.py\", line 23, in train_and_evaluate\n\n  File \"c:\\Users\\ricar\\anaconda3\\envs\\pro24\\Lib\\site-packages\\keras\\src\\utils\\traceback_utils.py\", line 65, in error_handler\n\n  File \"c:\\Users\\ricar\\anaconda3\\envs\\pro24\\Lib\\site-packages\\keras\\src\\engine\\training.py\", line 1807, in fit\n\n  File \"c:\\Users\\ricar\\anaconda3\\envs\\pro24\\Lib\\site-packages\\keras\\src\\engine\\training.py\", line 1401, in train_function\n\n  File \"c:\\Users\\ricar\\anaconda3\\envs\\pro24\\Lib\\site-packages\\keras\\src\\engine\\training.py\", line 1384, in step_function\n\n  File \"c:\\Users\\ricar\\anaconda3\\envs\\pro24\\Lib\\site-packages\\keras\\src\\engine\\training.py\", line 1373, in run_step\n\n  File \"c:\\Users\\ricar\\anaconda3\\envs\\pro24\\Lib\\site-packages\\keras\\src\\engine\\training.py\", line 1154, in train_step\n\n  File \"c:\\Users\\ricar\\anaconda3\\envs\\pro24\\Lib\\site-packages\\keras\\src\\optimizers\\optimizer.py\", line 543, in minimize\n\n  File \"c:\\Users\\ricar\\anaconda3\\envs\\pro24\\Lib\\site-packages\\keras\\src\\optimizers\\optimizer.py\", line 276, in compute_gradients\n\nIncompatible shapes: [32,12,10] vs. [32]\n\t [[{{node gradient_tape/mean_squared_error/BroadcastGradientArgs}}]] [Op:__inference_train_function_3624]"
     ]
    }
   ],
   "source": [
    "def build_dynamic_model(time_steps, n_features, layer_configs, dropout=0.2):\n",
    "    model = Sequential()\n",
    "    for i, config in enumerate(layer_configs):\n",
    "        if config['type'] == 'LSTM':\n",
    "            # For the first LSTM layer, specify input_shape\n",
    "            if i == 0:\n",
    "                model.add(LSTM(config['neurons'], activation=config['activation'], input_shape=(time_steps, n_features), return_sequences=(i < len(layer_configs) - 1)))\n",
    "            else:\n",
    "                model.add(LSTM(config['neurons'], activation=config['activation'], return_sequences=(i < len(layer_configs) - 1)))\n",
    "        elif config['type'] == 'Dense':\n",
    "            model.add(Dense(config['neurons'], activation= 'linear'))\n",
    "        if i < len(layer_configs) - 1:  # Add dropout except for the last layer\n",
    "            model.add(Dropout(dropout))\n",
    "    model.compile(optimizer='adam', loss='mean_squared_error')\n",
    "    return model\n",
    "\n",
    "\n",
    "def train_and_evaluate(model, X_train, y_train, X_test, y_test, epochs=50, batch_size=32):\n",
    "    early_stopping = EarlyStopping(monitor='val_loss', patience=10, restore_best_weights=True)\n",
    "\n",
    "    # Fit the model using the reshaped targets\n",
    "    # model.fit(X_train, y_train, epochs=epochs, batch_size=batch_size, validation_split=0.2, callbacks=[early_stopping])\n",
    "    model.fit(X_train, y_train, epochs=epochs, batch_size=batch_size, validation_data=(X_test, y_test), verbose=1, callbacks=[early_stopping])\n",
    "    predictions = model.predict(X_test)\n",
    "\n",
    "    # Adjust the shape of predictions and y_test if necessary before calculating MSE and R^2\n",
    "    mse = mean_squared_error(y_test.reshape(-1), predictions.reshape(-1))\n",
    "    r2 = r2_score(y_test.reshape(-1), predictions.reshape(-1))\n",
    "    return mse, r2\n",
    "\n",
    "def generate_configurations(neurons_list, layers_list, activations_list):\n",
    "    configurations = []\n",
    "    for layers, activation in product(layers_list, activations_list):\n",
    "        for neurons in product(neurons_list, repeat=layers):\n",
    "            config = [{'type': 'LSTM', 'neurons': n, 'activation': activation} for n in neurons[:-1]]\n",
    "            config.append({'type': 'Dense', 'neurons': neurons[-1], 'activation': 'sigmoid'})  # Output layer always Dense (reflecting a common practice for binary classification or regression tasks where the output is scaled between 0 and 1)\n",
    "            configurations.append(config)\n",
    "    return configurations\n",
    "\n",
    "def find_best_model(X_train, y_train, X_test, y_test, configurations, epochs=50, batch_size=32):\n",
    "    best_mse = float('inf')\n",
    "    best_r2 = float('-inf')\n",
    "    best_config = None\n",
    "    for config in configurations:\n",
    "        model = build_dynamic_model(X_train.shape[1], X_train.shape[2], config)\n",
    "        # mse, r2 = train_and_evaluate(model, X_train, y_train, X_test, y_test, EPOCHS, BATCH_SIZE)\n",
    "        mse, r2 = train_and_evaluate(model, X_train, y_train, X_test, y_test, epochs=epochs, batch_size=batch_size)\n",
    "        if mse < best_mse or (mse == best_mse and r2 > best_r2):\n",
    "            best_mse, best_r2, best_config = mse, r2, config\n",
    "    return best_config, best_mse, best_r2\n",
    "\n",
    "# # Define the parameter ranges\n",
    "# neurons_list = list(range(10, 21))\n",
    "# layers_list = [2, 3, 4, 5]\n",
    "# activations_list = ['relu', 'tanh', 'sigmoid']\n",
    "\n",
    "configurations = generate_configurations(neurons_list, layers_list, activations_list)\n",
    "\n",
    "# Assuming X_train, y_train, X_test, y_test are defined\n",
    "best_config, best_mse, best_r2 = find_best_model(X_train, y_train, X_test, y_test, configurations)\n",
    "print(f\"Best configuration: {best_config}\\nMSE: {best_mse}, R^2: {best_r2}\")"
   ]
  },
  {
   "cell_type": "code",
   "execution_count": null,
   "metadata": {},
   "outputs": [],
   "source": []
  }
 ],
 "metadata": {
  "kernelspec": {
   "display_name": "base",
   "language": "python",
   "name": "python3"
  },
  "language_info": {
   "codemirror_mode": {
    "name": "ipython",
    "version": 3
   },
   "file_extension": ".py",
   "mimetype": "text/x-python",
   "name": "python",
   "nbconvert_exporter": "python",
   "pygments_lexer": "ipython3",
   "version": "undefined.undefined.undefined"
  }
 },
 "nbformat": 4,
 "nbformat_minor": 2
}
