{
 "cells": [
  {
   "cell_type": "code",
   "execution_count": 2,
   "metadata": {},
   "outputs": [],
   "source": [
    "from ia_model.data_preparation import load_data, prepare_data, split_data\n",
    "# from ia_model.model import  train_model, evaluate_model, save_model, build_dynamic_model\n",
    "from ia_model.utils import ia_plot_history\n",
    "from ia_model.model_final import evaluate_combinations, build_best_model\n",
    "import joblib\n"
   ]
  },
  {
   "cell_type": "code",
   "execution_count": 11,
   "metadata": {},
   "outputs": [],
   "source": [
    "# Configuration parameters for the model and data preparation\n",
    "FILE_PATH = 'aggregated_data4.csv' #This data can be download from https://rcavieses.pythonanywhere.com/\n",
    "FEATURE_COL = ['NOMBRE PRINCIPAL','NOMBRE ESTADO','NOMBRE OFICINA','SST','PESO DESEMBARCADO_KILOGRAMOS']#Change this if you want to add input variables\n",
    "TARGET_COL = 'PESO DESEMBARCADO_KILOGRAMOS'\n",
    "CATEGORICAL_COL = ['NOMBRE PRINCIPAL','NOMBRE ESTADO','NOMBRE OFICINA']\n",
    "NUMERIC_COL = ['PESO DESEMBARCADO_KILOGRAMOS','SST']\n",
    "steps_forecast = 12\n",
    "time_steps= 12 # number of steps that lstm forecast, change this will be errors on scoore metrics ;\n",
    "# Example \n",
    "neurons_list = [20,30,40]\n",
    "layers_list = [2,3,4]\n",
    "activations_list = ['relu']  # List of activation functions to test, possible choice ['relu', 'sigmoid','tanh'] \n",
    "EPOCHS = 50\n",
    "BATCH_SIZE = 30\n",
    "MODEL_PATH = 'mi_modelo.h5'\n",
    "SCALER_X_PATH = 'scaler_X.pkl'\n",
    "SCALER_Y_PATH = 'scaler_Y.pkl'\n",
    "\n",
    "\n"
   ]
  },
  {
   "cell_type": "code",
   "execution_count": 7,
   "metadata": {},
   "outputs": [],
   "source": [
    "# Load and prepare data\n",
    "df = load_data(str(FILE_PATH))\n",
    "X, y, scaler_x,scaler_y, encoder , n_features = prepare_data(df, TARGET_COL, time_steps,CATEGORICAL_COL,NUMERIC_COL)\n",
    "X_train, X_test, y_train, y_test = split_data(X, y)"
   ]
  },
  {
   "cell_type": "code",
   "execution_count": 12,
   "metadata": {},
   "outputs": [
    {
     "name": "stdout",
     "output_type": "stream",
     "text": [
      "1668/1668 [==============================] - 3s 2ms/step\n",
      "1668/1668 [==============================] - 3s 2ms/step\n",
      "1668/1668 [==============================] - 4s 3ms/step\n",
      "1668/1668 [==============================] - 4s 2ms/step\n",
      "1668/1668 [==============================] - 4s 2ms/step\n",
      "1668/1668 [==============================] - 9s 5ms/step\n",
      "1668/1668 [==============================] - 5s 3ms/step\n",
      "1668/1668 [==============================] - 5s 3ms/step\n",
      "1668/1668 [==============================] - 6s 3ms/step\n",
      "Best configuration: {'layers': 4, 'neurons': 40, 'activation': 'relu', 'MSE': 3.217697505078438e-05, 'R2': 0.06952714420618267}\n",
      "MSE: 3.217697505078438e-05, R^2: 0.06952714420618267\n"
     ]
    }
   ],
   "source": [
    "# Build model and test different combination to find the best combination\n",
    "best_configuration, best_mse, best_r2 = evaluate_combinations(X_train, y_train, X_test, y_test, time_steps, n_features, neurons_list, layers_list, activations_list, epochs=50, batch_size=32)\n",
    "print(f\"Best configuration: {best_configuration}\\nMSE: {best_mse}, R^2: {best_r2}\")"
   ]
  },
  {
   "cell_type": "markdown",
   "metadata": {},
   "source": []
  },
  {
   "cell_type": "code",
   "execution_count": 4,
   "metadata": {},
   "outputs": [],
   "source": [
    "# Build, Train, Evaluate the model using best parameter\n",
    "best_configuration = {'layers': 3, 'neurons': 32, 'activation': 'relu'}  # gives r2 of 0.32\n",
    "model, mse, r2 = build_best_model(time_steps, n_features, best_configuration, epochs=50, batch_size=32)\n"
   ]
  },
  {
   "cell_type": "code",
   "execution_count": null,
   "metadata": {},
   "outputs": [],
   "source": [
    "ia_plot_history(history)"
   ]
  },
  {
   "cell_type": "code",
   "execution_count": null,
   "metadata": {},
   "outputs": [],
   "source": [
    "save_model(model,'mi_modelo.h5')\n",
    "joblib.dump(scaler_x, 'scaler_X.pkl')  # Saves the scaler\n",
    "joblib.dump(scaler_y, 'scaler_Y.pkl')  # Saves the scaler\n",
    "joblib.dump(encoder, 'encoder_filename.pkl')  # Saves the encoder"
   ]
  }
 ],
 "metadata": {
  "kernelspec": {
   "display_name": "pro24",
   "language": "python",
   "name": "python3"
  },
  "language_info": {
   "codemirror_mode": {
    "name": "ipython",
    "version": 3
   },
   "file_extension": ".py",
   "mimetype": "text/x-python",
   "name": "python",
   "nbconvert_exporter": "python",
   "pygments_lexer": "ipython3",
   "version": "3.11.4"
  }
 },
 "nbformat": 4,
 "nbformat_minor": 2
}
